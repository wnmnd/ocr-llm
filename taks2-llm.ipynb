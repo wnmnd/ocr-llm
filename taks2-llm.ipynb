{
 "cells": [
  {
   "cell_type": "code",
   "execution_count": 1,
   "metadata": {
    "execution": {
     "iopub.execute_input": "2025-02-16T04:25:49.414717Z",
     "iopub.status.busy": "2025-02-16T04:25:49.414425Z",
     "iopub.status.idle": "2025-02-16T04:25:49.418863Z",
     "shell.execute_reply": "2025-02-16T04:25:49.417932Z",
     "shell.execute_reply.started": "2025-02-16T04:25:49.414672Z"
    },
    "trusted": true
   },
   "outputs": [],
   "source": [
    "import warnings\n",
    "warnings.filterwarnings('ignore')"
   ]
  },
  {
   "cell_type": "code",
   "execution_count": 2,
   "metadata": {
    "execution": {
     "iopub.execute_input": "2025-02-16T04:26:42.872195Z",
     "iopub.status.busy": "2025-02-16T04:26:42.871929Z",
     "iopub.status.idle": "2025-02-16T04:26:43.975860Z",
     "shell.execute_reply": "2025-02-16T04:26:43.974945Z",
     "shell.execute_reply.started": "2025-02-16T04:26:42.872176Z"
    },
    "trusted": true
   },
   "outputs": [],
   "source": [
    "import pandas as pd\n",
    "import numpy as np\n",
    "import matplotlib.pyplot as plt\n",
    "import seaborn as sns"
   ]
  },
  {
   "cell_type": "code",
   "execution_count": 3,
   "metadata": {
    "execution": {
     "iopub.execute_input": "2025-02-16T04:26:45.452514Z",
     "iopub.status.busy": "2025-02-16T04:26:45.452075Z",
     "iopub.status.idle": "2025-02-16T04:26:45.489416Z",
     "shell.execute_reply": "2025-02-16T04:26:45.488763Z",
     "shell.execute_reply.started": "2025-02-16T04:26:45.452484Z"
    },
    "trusted": true
   },
   "outputs": [],
   "source": [
    "data = pd.read_csv('/kaggle/input/sms-spam-collection-dataset/spam.csv', encoding = 'latin1')"
   ]
  },
  {
   "cell_type": "code",
   "execution_count": 4,
   "metadata": {
    "execution": {
     "iopub.execute_input": "2025-02-16T04:26:47.622350Z",
     "iopub.status.busy": "2025-02-16T04:26:47.622053Z",
     "iopub.status.idle": "2025-02-16T04:26:47.639547Z",
     "shell.execute_reply": "2025-02-16T04:26:47.638680Z",
     "shell.execute_reply.started": "2025-02-16T04:26:47.622326Z"
    },
    "trusted": true
   },
   "outputs": [
    {
     "data": {
      "text/html": [
       "<div>\n",
       "<style scoped>\n",
       "    .dataframe tbody tr th:only-of-type {\n",
       "        vertical-align: middle;\n",
       "    }\n",
       "\n",
       "    .dataframe tbody tr th {\n",
       "        vertical-align: top;\n",
       "    }\n",
       "\n",
       "    .dataframe thead th {\n",
       "        text-align: right;\n",
       "    }\n",
       "</style>\n",
       "<table border=\"1\" class=\"dataframe\">\n",
       "  <thead>\n",
       "    <tr style=\"text-align: right;\">\n",
       "      <th></th>\n",
       "      <th>v1</th>\n",
       "      <th>v2</th>\n",
       "      <th>Unnamed: 2</th>\n",
       "      <th>Unnamed: 3</th>\n",
       "      <th>Unnamed: 4</th>\n",
       "    </tr>\n",
       "  </thead>\n",
       "  <tbody>\n",
       "    <tr>\n",
       "      <th>0</th>\n",
       "      <td>ham</td>\n",
       "      <td>Go until jurong point, crazy.. Available only ...</td>\n",
       "      <td>NaN</td>\n",
       "      <td>NaN</td>\n",
       "      <td>NaN</td>\n",
       "    </tr>\n",
       "    <tr>\n",
       "      <th>1</th>\n",
       "      <td>ham</td>\n",
       "      <td>Ok lar... Joking wif u oni...</td>\n",
       "      <td>NaN</td>\n",
       "      <td>NaN</td>\n",
       "      <td>NaN</td>\n",
       "    </tr>\n",
       "    <tr>\n",
       "      <th>2</th>\n",
       "      <td>spam</td>\n",
       "      <td>Free entry in 2 a wkly comp to win FA Cup fina...</td>\n",
       "      <td>NaN</td>\n",
       "      <td>NaN</td>\n",
       "      <td>NaN</td>\n",
       "    </tr>\n",
       "    <tr>\n",
       "      <th>3</th>\n",
       "      <td>ham</td>\n",
       "      <td>U dun say so early hor... U c already then say...</td>\n",
       "      <td>NaN</td>\n",
       "      <td>NaN</td>\n",
       "      <td>NaN</td>\n",
       "    </tr>\n",
       "    <tr>\n",
       "      <th>4</th>\n",
       "      <td>ham</td>\n",
       "      <td>Nah I don't think he goes to usf, he lives aro...</td>\n",
       "      <td>NaN</td>\n",
       "      <td>NaN</td>\n",
       "      <td>NaN</td>\n",
       "    </tr>\n",
       "  </tbody>\n",
       "</table>\n",
       "</div>"
      ],
      "text/plain": [
       "     v1                                                 v2 Unnamed: 2  \\\n",
       "0   ham  Go until jurong point, crazy.. Available only ...        NaN   \n",
       "1   ham                      Ok lar... Joking wif u oni...        NaN   \n",
       "2  spam  Free entry in 2 a wkly comp to win FA Cup fina...        NaN   \n",
       "3   ham  U dun say so early hor... U c already then say...        NaN   \n",
       "4   ham  Nah I don't think he goes to usf, he lives aro...        NaN   \n",
       "\n",
       "  Unnamed: 3 Unnamed: 4  \n",
       "0        NaN        NaN  \n",
       "1        NaN        NaN  \n",
       "2        NaN        NaN  \n",
       "3        NaN        NaN  \n",
       "4        NaN        NaN  "
      ]
     },
     "execution_count": 4,
     "metadata": {},
     "output_type": "execute_result"
    }
   ],
   "source": [
    "data.head()"
   ]
  },
  {
   "cell_type": "code",
   "execution_count": 5,
   "metadata": {
    "execution": {
     "iopub.execute_input": "2025-02-16T04:26:50.137801Z",
     "iopub.status.busy": "2025-02-16T04:26:50.137414Z",
     "iopub.status.idle": "2025-02-16T04:26:50.143442Z",
     "shell.execute_reply": "2025-02-16T04:26:50.142538Z",
     "shell.execute_reply.started": "2025-02-16T04:26:50.137770Z"
    },
    "trusted": true
   },
   "outputs": [
    {
     "data": {
      "text/plain": [
       "(5572, 5)"
      ]
     },
     "execution_count": 5,
     "metadata": {},
     "output_type": "execute_result"
    }
   ],
   "source": [
    "data.shape"
   ]
  },
  {
   "cell_type": "code",
   "execution_count": 6,
   "metadata": {
    "execution": {
     "iopub.execute_input": "2025-02-16T04:26:52.096701Z",
     "iopub.status.busy": "2025-02-16T04:26:52.096387Z",
     "iopub.status.idle": "2025-02-16T04:26:52.108948Z",
     "shell.execute_reply": "2025-02-16T04:26:52.108098Z",
     "shell.execute_reply.started": "2025-02-16T04:26:52.096675Z"
    },
    "trusted": true
   },
   "outputs": [
    {
     "data": {
      "text/plain": [
       "v1               0\n",
       "v2               0\n",
       "Unnamed: 2    5522\n",
       "Unnamed: 3    5560\n",
       "Unnamed: 4    5566\n",
       "dtype: int64"
      ]
     },
     "execution_count": 6,
     "metadata": {},
     "output_type": "execute_result"
    }
   ],
   "source": [
    "data.isna().sum().sort_values()"
   ]
  },
  {
   "cell_type": "code",
   "execution_count": 7,
   "metadata": {
    "execution": {
     "iopub.execute_input": "2025-02-16T04:26:55.091645Z",
     "iopub.status.busy": "2025-02-16T04:26:55.091290Z",
     "iopub.status.idle": "2025-02-16T04:26:55.101177Z",
     "shell.execute_reply": "2025-02-16T04:26:55.100184Z",
     "shell.execute_reply.started": "2025-02-16T04:26:55.091619Z"
    },
    "trusted": true
   },
   "outputs": [],
   "source": [
    "data.drop(['Unnamed: 2', 'Unnamed: 3', 'Unnamed: 4'], axis = 1, inplace = True)"
   ]
  },
  {
   "cell_type": "code",
   "execution_count": 8,
   "metadata": {
    "execution": {
     "iopub.execute_input": "2025-02-16T04:26:58.397009Z",
     "iopub.status.busy": "2025-02-16T04:26:58.396640Z",
     "iopub.status.idle": "2025-02-16T04:26:58.406269Z",
     "shell.execute_reply": "2025-02-16T04:26:58.405410Z",
     "shell.execute_reply.started": "2025-02-16T04:26:58.396980Z"
    },
    "trusted": true
   },
   "outputs": [
    {
     "data": {
      "text/html": [
       "<div>\n",
       "<style scoped>\n",
       "    .dataframe tbody tr th:only-of-type {\n",
       "        vertical-align: middle;\n",
       "    }\n",
       "\n",
       "    .dataframe tbody tr th {\n",
       "        vertical-align: top;\n",
       "    }\n",
       "\n",
       "    .dataframe thead th {\n",
       "        text-align: right;\n",
       "    }\n",
       "</style>\n",
       "<table border=\"1\" class=\"dataframe\">\n",
       "  <thead>\n",
       "    <tr style=\"text-align: right;\">\n",
       "      <th></th>\n",
       "      <th>v1</th>\n",
       "      <th>v2</th>\n",
       "    </tr>\n",
       "  </thead>\n",
       "  <tbody>\n",
       "    <tr>\n",
       "      <th>0</th>\n",
       "      <td>ham</td>\n",
       "      <td>Go until jurong point, crazy.. Available only ...</td>\n",
       "    </tr>\n",
       "    <tr>\n",
       "      <th>1</th>\n",
       "      <td>ham</td>\n",
       "      <td>Ok lar... Joking wif u oni...</td>\n",
       "    </tr>\n",
       "  </tbody>\n",
       "</table>\n",
       "</div>"
      ],
      "text/plain": [
       "    v1                                                 v2\n",
       "0  ham  Go until jurong point, crazy.. Available only ...\n",
       "1  ham                      Ok lar... Joking wif u oni..."
      ]
     },
     "execution_count": 8,
     "metadata": {},
     "output_type": "execute_result"
    }
   ],
   "source": [
    "data.head(2)"
   ]
  },
  {
   "cell_type": "code",
   "execution_count": 9,
   "metadata": {
    "execution": {
     "iopub.execute_input": "2025-02-16T04:27:01.431648Z",
     "iopub.status.busy": "2025-02-16T04:27:01.431318Z",
     "iopub.status.idle": "2025-02-16T04:27:01.435771Z",
     "shell.execute_reply": "2025-02-16T04:27:01.434792Z",
     "shell.execute_reply.started": "2025-02-16T04:27:01.431624Z"
    },
    "trusted": true
   },
   "outputs": [],
   "source": [
    "data.rename(columns = {'v1': 'sms_label', 'v2':'sms_raw_text'}, inplace = True)"
   ]
  },
  {
   "cell_type": "code",
   "execution_count": 10,
   "metadata": {
    "execution": {
     "iopub.execute_input": "2025-02-16T04:27:05.036479Z",
     "iopub.status.busy": "2025-02-16T04:27:05.036166Z",
     "iopub.status.idle": "2025-02-16T04:27:05.043331Z",
     "shell.execute_reply": "2025-02-16T04:27:05.042588Z",
     "shell.execute_reply.started": "2025-02-16T04:27:05.036455Z"
    },
    "trusted": true
   },
   "outputs": [
    {
     "data": {
      "text/html": [
       "<div>\n",
       "<style scoped>\n",
       "    .dataframe tbody tr th:only-of-type {\n",
       "        vertical-align: middle;\n",
       "    }\n",
       "\n",
       "    .dataframe tbody tr th {\n",
       "        vertical-align: top;\n",
       "    }\n",
       "\n",
       "    .dataframe thead th {\n",
       "        text-align: right;\n",
       "    }\n",
       "</style>\n",
       "<table border=\"1\" class=\"dataframe\">\n",
       "  <thead>\n",
       "    <tr style=\"text-align: right;\">\n",
       "      <th></th>\n",
       "      <th>sms_label</th>\n",
       "      <th>sms_raw_text</th>\n",
       "    </tr>\n",
       "  </thead>\n",
       "  <tbody>\n",
       "    <tr>\n",
       "      <th>0</th>\n",
       "      <td>ham</td>\n",
       "      <td>Go until jurong point, crazy.. Available only ...</td>\n",
       "    </tr>\n",
       "    <tr>\n",
       "      <th>1</th>\n",
       "      <td>ham</td>\n",
       "      <td>Ok lar... Joking wif u oni...</td>\n",
       "    </tr>\n",
       "  </tbody>\n",
       "</table>\n",
       "</div>"
      ],
      "text/plain": [
       "  sms_label                                       sms_raw_text\n",
       "0       ham  Go until jurong point, crazy.. Available only ...\n",
       "1       ham                      Ok lar... Joking wif u oni..."
      ]
     },
     "execution_count": 10,
     "metadata": {},
     "output_type": "execute_result"
    }
   ],
   "source": [
    "data.head(2)"
   ]
  },
  {
   "cell_type": "code",
   "execution_count": 11,
   "metadata": {
    "execution": {
     "iopub.execute_input": "2025-02-16T04:27:23.047753Z",
     "iopub.status.busy": "2025-02-16T04:27:23.047474Z",
     "iopub.status.idle": "2025-02-16T04:27:23.055064Z",
     "shell.execute_reply": "2025-02-16T04:27:23.053972Z",
     "shell.execute_reply.started": "2025-02-16T04:27:23.047734Z"
    },
    "trusted": true
   },
   "outputs": [],
   "source": [
    "spam_prorp = data['sms_label'].value_counts(normalize = True)"
   ]
  },
  {
   "cell_type": "code",
   "execution_count": 12,
   "metadata": {
    "execution": {
     "iopub.execute_input": "2025-02-16T04:27:25.007108Z",
     "iopub.status.busy": "2025-02-16T04:27:25.006835Z",
     "iopub.status.idle": "2025-02-16T04:27:25.013809Z",
     "shell.execute_reply": "2025-02-16T04:27:25.013089Z",
     "shell.execute_reply.started": "2025-02-16T04:27:25.007087Z"
    },
    "trusted": true
   },
   "outputs": [
    {
     "data": {
      "text/plain": [
       "sms_label\n",
       "ham     0.865937\n",
       "spam    0.134063\n",
       "Name: proportion, dtype: float64"
      ]
     },
     "execution_count": 12,
     "metadata": {},
     "output_type": "execute_result"
    }
   ],
   "source": [
    "spam_prorp"
   ]
  },
  {
   "cell_type": "markdown",
   "metadata": {},
   "source": [
    "**The dataset is highly imbalanced.Almost 87% are non-spam sms whereas the remaining 13% are classified as spams sms**"
   ]
  },
  {
   "cell_type": "code",
   "execution_count": 13,
   "metadata": {
    "execution": {
     "iopub.execute_input": "2025-02-16T04:27:27.097091Z",
     "iopub.status.busy": "2025-02-16T04:27:27.096813Z",
     "iopub.status.idle": "2025-02-16T04:27:27.298205Z",
     "shell.execute_reply": "2025-02-16T04:27:27.297449Z",
     "shell.execute_reply.started": "2025-02-16T04:27:27.097070Z"
    },
    "trusted": true
   },
   "outputs": [
    {
     "data": {
      "image/png": "[encoded data removed]",
      "text/plain": [
       "<Figure size 640x480 with 1 Axes>"
      ]
     },
     "metadata": {},
     "output_type": "display_data"
    }
   ],
   "source": [
    "spam_prorp.plot(x = spam_prorp.index, y = spam_prorp.values, kind = 'bar', \n",
    "                color = ['lightblue' if label == 'ham' else 'red' for label in spam_prorp.index],\n",
    "               title = 'Proportion of spam vs non-spam')\n",
    "plt.show()"
   ]
  },
  {
   "cell_type": "code",
   "execution_count": 14,
   "metadata": {
    "execution": {
     "iopub.execute_input": "2025-02-16T04:27:30.002634Z",
     "iopub.status.busy": "2025-02-16T04:27:30.002055Z",
     "iopub.status.idle": "2025-02-16T04:27:30.010177Z",
     "shell.execute_reply": "2025-02-16T04:27:30.009339Z",
     "shell.execute_reply.started": "2025-02-16T04:27:30.002598Z"
    },
    "trusted": true
   },
   "outputs": [
    {
     "data": {
      "text/plain": [
       "0    Go until jurong point, crazy.. Available only ...\n",
       "1                        Ok lar... Joking wif u oni...\n",
       "2    Free entry in 2 a wkly comp to win FA Cup fina...\n",
       "3    U dun say so early hor... U c already then say...\n",
       "4    Nah I don't think he goes to usf, he lives aro...\n",
       "Name: sms_raw_text, dtype: object"
      ]
     },
     "execution_count": 14,
     "metadata": {},
     "output_type": "execute_result"
    }
   ],
   "source": [
    "data['sms_raw_text'][:5]"
   ]
  },
  {
   "cell_type": "code",
   "execution_count": 15,
   "metadata": {
    "execution": {
     "iopub.execute_input": "2025-02-16T04:27:32.221920Z",
     "iopub.status.busy": "2025-02-16T04:27:32.221634Z",
     "iopub.status.idle": "2025-02-16T04:27:32.229099Z",
     "shell.execute_reply": "2025-02-16T04:27:32.228178Z",
     "shell.execute_reply.started": "2025-02-16T04:27:32.221898Z"
    },
    "trusted": true
   },
   "outputs": [],
   "source": [
    "# Let's encode the target variable (1 for spam and 0 for ham or legitimate)\n",
    "label_mapping = {'ham':0, 'spam':1}\n",
    "data['sms_label'].replace(label_mapping, inplace = True)"
   ]
  },
  {
   "cell_type": "code",
   "execution_count": 16,
   "metadata": {
    "execution": {
     "iopub.execute_input": "2025-02-16T04:27:34.497046Z",
     "iopub.status.busy": "2025-02-16T04:27:34.496627Z",
     "iopub.status.idle": "2025-02-16T04:27:34.505054Z",
     "shell.execute_reply": "2025-02-16T04:27:34.504295Z",
     "shell.execute_reply.started": "2025-02-16T04:27:34.497008Z"
    },
    "trusted": true
   },
   "outputs": [
    {
     "data": {
      "text/html": [
       "<div>\n",
       "<style scoped>\n",
       "    .dataframe tbody tr th:only-of-type {\n",
       "        vertical-align: middle;\n",
       "    }\n",
       "\n",
       "    .dataframe tbody tr th {\n",
       "        vertical-align: top;\n",
       "    }\n",
       "\n",
       "    .dataframe thead th {\n",
       "        text-align: right;\n",
       "    }\n",
       "</style>\n",
       "<table border=\"1\" class=\"dataframe\">\n",
       "  <thead>\n",
       "    <tr style=\"text-align: right;\">\n",
       "      <th></th>\n",
       "      <th>sms_label</th>\n",
       "      <th>sms_raw_text</th>\n",
       "    </tr>\n",
       "  </thead>\n",
       "  <tbody>\n",
       "    <tr>\n",
       "      <th>0</th>\n",
       "      <td>0</td>\n",
       "      <td>Go until jurong point, crazy.. Available only ...</td>\n",
       "    </tr>\n",
       "    <tr>\n",
       "      <th>1</th>\n",
       "      <td>0</td>\n",
       "      <td>Ok lar... Joking wif u oni...</td>\n",
       "    </tr>\n",
       "    <tr>\n",
       "      <th>2</th>\n",
       "      <td>1</td>\n",
       "      <td>Free entry in 2 a wkly comp to win FA Cup fina...</td>\n",
       "    </tr>\n",
       "    <tr>\n",
       "      <th>3</th>\n",
       "      <td>0</td>\n",
       "      <td>U dun say so early hor... U c already then say...</td>\n",
       "    </tr>\n",
       "    <tr>\n",
       "      <th>4</th>\n",
       "      <td>0</td>\n",
       "      <td>Nah I don't think he goes to usf, he lives aro...</td>\n",
       "    </tr>\n",
       "  </tbody>\n",
       "</table>\n",
       "</div>"
      ],
      "text/plain": [
       "   sms_label                                       sms_raw_text\n",
       "0          0  Go until jurong point, crazy.. Available only ...\n",
       "1          0                      Ok lar... Joking wif u oni...\n",
       "2          1  Free entry in 2 a wkly comp to win FA Cup fina...\n",
       "3          0  U dun say so early hor... U c already then say...\n",
       "4          0  Nah I don't think he goes to usf, he lives aro..."
      ]
     },
     "execution_count": 16,
     "metadata": {},
     "output_type": "execute_result"
    }
   ],
   "source": [
    "data.head()"
   ]
  },
  {
   "cell_type": "code",
   "execution_count": 17,
   "metadata": {
    "execution": {
     "iopub.execute_input": "2025-02-16T04:27:45.293032Z",
     "iopub.status.busy": "2025-02-16T04:27:45.292756Z",
     "iopub.status.idle": "2025-02-16T04:27:50.467953Z",
     "shell.execute_reply": "2025-02-16T04:27:50.467221Z",
     "shell.execute_reply.started": "2025-02-16T04:27:45.293010Z"
    },
    "trusted": true
   },
   "outputs": [],
   "source": [
    "# Let's import Dataset, DataLoader, DistilBert (developped by HuggingFace) and...\n",
    "import torch\n",
    "import torch.optim as optim\n",
    "import torch.nn as nn\n",
    "from torch.utils.data import Dataset, DataLoader\n",
    "from transformers import DistilBertTokenizer, DistilBertForSequenceClassification\n",
    "from sklearn.model_selection import train_test_split\n",
    "from sklearn.metrics import classification_report, confusion_matrix, roc_auc_score"
   ]
  },
  {
   "cell_type": "code",
   "execution_count": 18,
   "metadata": {
    "execution": {
     "iopub.execute_input": "2025-02-16T04:27:52.953024Z",
     "iopub.status.busy": "2025-02-16T04:27:52.952565Z",
     "iopub.status.idle": "2025-02-16T04:27:52.962918Z",
     "shell.execute_reply": "2025-02-16T04:27:52.961965Z",
     "shell.execute_reply.started": "2025-02-16T04:27:52.953000Z"
    },
    "trusted": true
   },
   "outputs": [],
   "source": [
    "# Let's train_test_split the data\n",
    "train_data, eval_data = train_test_split(data, test_size = 0.2, random_state = 42, stratify = data['sms_label'])"
   ]
  },
  {
   "cell_type": "code",
   "execution_count": 19,
   "metadata": {
    "execution": {
     "iopub.execute_input": "2025-02-16T04:27:55.841766Z",
     "iopub.status.busy": "2025-02-16T04:27:55.841466Z",
     "iopub.status.idle": "2025-02-16T04:27:55.850871Z",
     "shell.execute_reply": "2025-02-16T04:27:55.850116Z",
     "shell.execute_reply.started": "2025-02-16T04:27:55.841743Z"
    },
    "trusted": true
   },
   "outputs": [
    {
     "data": {
      "text/html": [
       "<div>\n",
       "<style scoped>\n",
       "    .dataframe tbody tr th:only-of-type {\n",
       "        vertical-align: middle;\n",
       "    }\n",
       "\n",
       "    .dataframe tbody tr th {\n",
       "        vertical-align: top;\n",
       "    }\n",
       "\n",
       "    .dataframe thead th {\n",
       "        text-align: right;\n",
       "    }\n",
       "</style>\n",
       "<table border=\"1\" class=\"dataframe\">\n",
       "  <thead>\n",
       "    <tr style=\"text-align: right;\">\n",
       "      <th></th>\n",
       "      <th>sms_label</th>\n",
       "      <th>sms_raw_text</th>\n",
       "    </tr>\n",
       "  </thead>\n",
       "  <tbody>\n",
       "    <tr>\n",
       "      <th>184</th>\n",
       "      <td>0</td>\n",
       "      <td>Going on nothing great.bye</td>\n",
       "    </tr>\n",
       "    <tr>\n",
       "      <th>2171</th>\n",
       "      <td>0</td>\n",
       "      <td>I wont. So wat's wit the guys</td>\n",
       "    </tr>\n",
       "    <tr>\n",
       "      <th>5422</th>\n",
       "      <td>0</td>\n",
       "      <td>Ok k..sry i knw 2 siva..tats y i askd..</td>\n",
       "    </tr>\n",
       "    <tr>\n",
       "      <th>4113</th>\n",
       "      <td>0</td>\n",
       "      <td>Where are you ? What do you do ? How can you s...</td>\n",
       "    </tr>\n",
       "    <tr>\n",
       "      <th>4588</th>\n",
       "      <td>0</td>\n",
       "      <td>Have you not finished work yet or something?</td>\n",
       "    </tr>\n",
       "    <tr>\n",
       "      <th>...</th>\n",
       "      <td>...</td>\n",
       "      <td>...</td>\n",
       "    </tr>\n",
       "    <tr>\n",
       "      <th>1932</th>\n",
       "      <td>0</td>\n",
       "      <td>Jus finished avatar nigro</td>\n",
       "    </tr>\n",
       "    <tr>\n",
       "      <th>5316</th>\n",
       "      <td>0</td>\n",
       "      <td>Jus finish watching tv... U?</td>\n",
       "    </tr>\n",
       "    <tr>\n",
       "      <th>2308</th>\n",
       "      <td>1</td>\n",
       "      <td>Moby Pub Quiz.Win a å£100 High Street prize if...</td>\n",
       "    </tr>\n",
       "    <tr>\n",
       "      <th>1903</th>\n",
       "      <td>1</td>\n",
       "      <td>Free entry in 2 a weekly comp for a chance to ...</td>\n",
       "    </tr>\n",
       "    <tr>\n",
       "      <th>763</th>\n",
       "      <td>0</td>\n",
       "      <td>Nothing but we jus tot u would ask cos u ba gu...</td>\n",
       "    </tr>\n",
       "  </tbody>\n",
       "</table>\n",
       "<p>4457 rows × 2 columns</p>\n",
       "</div>"
      ],
      "text/plain": [
       "      sms_label                                       sms_raw_text\n",
       "184           0                         Going on nothing great.bye\n",
       "2171          0                      I wont. So wat's wit the guys\n",
       "5422          0            Ok k..sry i knw 2 siva..tats y i askd..\n",
       "4113          0  Where are you ? What do you do ? How can you s...\n",
       "4588          0       Have you not finished work yet or something?\n",
       "...         ...                                                ...\n",
       "1932          0                          Jus finished avatar nigro\n",
       "5316          0                       Jus finish watching tv... U?\n",
       "2308          1  Moby Pub Quiz.Win a å£100 High Street prize if...\n",
       "1903          1  Free entry in 2 a weekly comp for a chance to ...\n",
       "763           0  Nothing but we jus tot u would ask cos u ba gu...\n",
       "\n",
       "[4457 rows x 2 columns]"
      ]
     },
     "execution_count": 19,
     "metadata": {},
     "output_type": "execute_result"
    }
   ],
   "source": [
    "train_data"
   ]
  },
  {
   "cell_type": "code",
   "execution_count": 20,
   "metadata": {
    "execution": {
     "iopub.execute_input": "2025-02-16T04:27:58.556536Z",
     "iopub.status.busy": "2025-02-16T04:27:58.556241Z",
     "iopub.status.idle": "2025-02-16T04:27:58.565445Z",
     "shell.execute_reply": "2025-02-16T04:27:58.564624Z",
     "shell.execute_reply.started": "2025-02-16T04:27:58.556514Z"
    },
    "trusted": true
   },
   "outputs": [
    {
     "data": {
      "text/html": [
       "<div>\n",
       "<style scoped>\n",
       "    .dataframe tbody tr th:only-of-type {\n",
       "        vertical-align: middle;\n",
       "    }\n",
       "\n",
       "    .dataframe tbody tr th {\n",
       "        vertical-align: top;\n",
       "    }\n",
       "\n",
       "    .dataframe thead th {\n",
       "        text-align: right;\n",
       "    }\n",
       "</style>\n",
       "<table border=\"1\" class=\"dataframe\">\n",
       "  <thead>\n",
       "    <tr style=\"text-align: right;\">\n",
       "      <th></th>\n",
       "      <th>sms_label</th>\n",
       "      <th>sms_raw_text</th>\n",
       "    </tr>\n",
       "  </thead>\n",
       "  <tbody>\n",
       "    <tr>\n",
       "      <th>2826</th>\n",
       "      <td>0</td>\n",
       "      <td>Oh right, ok. I'll make sure that i do loads o...</td>\n",
       "    </tr>\n",
       "    <tr>\n",
       "      <th>3695</th>\n",
       "      <td>0</td>\n",
       "      <td>I am in tirupur.  call you da.</td>\n",
       "    </tr>\n",
       "    <tr>\n",
       "      <th>3906</th>\n",
       "      <td>0</td>\n",
       "      <td>No that just means you have a fat head</td>\n",
       "    </tr>\n",
       "    <tr>\n",
       "      <th>575</th>\n",
       "      <td>1</td>\n",
       "      <td>You have won ?1,000 cash or a ?2,000 prize! To...</td>\n",
       "    </tr>\n",
       "    <tr>\n",
       "      <th>2899</th>\n",
       "      <td>0</td>\n",
       "      <td>Come aftr  &amp;lt;DECIMAL&amp;gt; ..now i m cleaning ...</td>\n",
       "    </tr>\n",
       "    <tr>\n",
       "      <th>...</th>\n",
       "      <td>...</td>\n",
       "      <td>...</td>\n",
       "    </tr>\n",
       "    <tr>\n",
       "      <th>854</th>\n",
       "      <td>0</td>\n",
       "      <td>Stop the story. I've told him i've returned it...</td>\n",
       "    </tr>\n",
       "    <tr>\n",
       "      <th>5044</th>\n",
       "      <td>0</td>\n",
       "      <td>We have sent JD for Customer Service cum Accou...</td>\n",
       "    </tr>\n",
       "    <tr>\n",
       "      <th>2015</th>\n",
       "      <td>0</td>\n",
       "      <td>Just re read it and I have no shame but tell m...</td>\n",
       "    </tr>\n",
       "    <tr>\n",
       "      <th>3381</th>\n",
       "      <td>0</td>\n",
       "      <td>Well, I meant as opposed to my drunken night o...</td>\n",
       "    </tr>\n",
       "    <tr>\n",
       "      <th>785</th>\n",
       "      <td>0</td>\n",
       "      <td>She was supposed to be but couldn't make it, s...</td>\n",
       "    </tr>\n",
       "  </tbody>\n",
       "</table>\n",
       "<p>1115 rows × 2 columns</p>\n",
       "</div>"
      ],
      "text/plain": [
       "      sms_label                                       sms_raw_text\n",
       "2826          0  Oh right, ok. I'll make sure that i do loads o...\n",
       "3695          0                     I am in tirupur.  call you da.\n",
       "3906          0             No that just means you have a fat head\n",
       "575           1  You have won ?1,000 cash or a ?2,000 prize! To...\n",
       "2899          0  Come aftr  &lt;DECIMAL&gt; ..now i m cleaning ...\n",
       "...         ...                                                ...\n",
       "854           0  Stop the story. I've told him i've returned it...\n",
       "5044          0  We have sent JD for Customer Service cum Accou...\n",
       "2015          0  Just re read it and I have no shame but tell m...\n",
       "3381          0  Well, I meant as opposed to my drunken night o...\n",
       "785           0  She was supposed to be but couldn't make it, s...\n",
       "\n",
       "[1115 rows x 2 columns]"
      ]
     },
     "execution_count": 20,
     "metadata": {},
     "output_type": "execute_result"
    }
   ],
   "source": [
    "eval_data"
   ]
  },
  {
   "cell_type": "code",
   "execution_count": 21,
   "metadata": {
    "execution": {
     "iopub.execute_input": "2025-02-16T04:28:03.221793Z",
     "iopub.status.busy": "2025-02-16T04:28:03.221507Z",
     "iopub.status.idle": "2025-02-16T04:28:03.227074Z",
     "shell.execute_reply": "2025-02-16T04:28:03.226211Z",
     "shell.execute_reply.started": "2025-02-16T04:28:03.221772Z"
    },
    "trusted": true
   },
   "outputs": [],
   "source": [
    "# Let's define pytorch Dataset\n",
    "class SpamDetectionDataset(Dataset):\n",
    "    def __init__(self, data, tokenizer):\n",
    "        self.data = data\n",
    "        self.tokenizer = tokenizer\n",
    "        self.max_length = 256\n",
    "\n",
    "    def __len__(self) :\n",
    "        return len(self.data)\n",
    "\n",
    "    def __getitem__(self, idx):\n",
    "        text = self.data.iloc[idx]['sms_raw_text']\n",
    "        labels = self.data.iloc[idx][['sms_label']].values.astype(int)\n",
    "        # padding set to 'max_length ensures that all tokenized text with length<max_length will complete to zero'\n",
    "        # truncation set to True ensures no tokenized text will exceed max_length\n",
    "        encoding = self.tokenizer(text, return_tensors='pt', padding='max_length', truncation=True, max_length=self.max_length)\n",
    "\n",
    "        input_ids = encoding['input_ids'][0] # Almost the same as encoding['input_ids'].squeeze()\n",
    "        attention_mask = encoding['attention_mask'][0]\n",
    "       \n",
    "        return input_ids, attention_mask, torch.tensor(labels)\n",
    "        "
   ]
  },
  {
   "cell_type": "code",
   "execution_count": 22,
   "metadata": {
    "execution": {
     "iopub.execute_input": "2025-02-16T04:28:08.799100Z",
     "iopub.status.busy": "2025-02-16T04:28:08.798691Z",
     "iopub.status.idle": "2025-02-16T04:28:09.855434Z",
     "shell.execute_reply": "2025-02-16T04:28:09.854738Z",
     "shell.execute_reply.started": "2025-02-16T04:28:08.799064Z"
    },
    "trusted": true
   },
   "outputs": [
    {
     "data": {
      "application/vnd.jupyter.widget-view+json": {
       "model_id": "d3cbf542124945859a628fee495e65f3",
       "version_major": 2,
       "version_minor": 0
      },
      "text/plain": [
       "tokenizer_config.json:   0%|          | 0.00/48.0 [00:00<?, ?B/s]"
      ]
     },
     "metadata": {},
     "output_type": "display_data"
    },
    {
     "data": {
      "application/vnd.jupyter.widget-view+json": {
       "model_id": "9a1b447079824846a64d5f867b619940",
       "version_major": 2,
       "version_minor": 0
      },
      "text/plain": [
       "vocab.txt:   0%|          | 0.00/232k [00:00<?, ?B/s]"
      ]
     },
     "metadata": {},
     "output_type": "display_data"
    },
    {
     "data": {
      "application/vnd.jupyter.widget-view+json": {
       "model_id": "ba18370a99564811b4e76cf252e23576",
       "version_major": 2,
       "version_minor": 0
      },
      "text/plain": [
       "config.json:   0%|          | 0.00/629 [00:00<?, ?B/s]"
      ]
     },
     "metadata": {},
     "output_type": "display_data"
    }
   ],
   "source": [
    "# Now, let's define the DistilBert tokenizer and transform our train_data, eval_data in Pytorch Dataset\n",
    "model_checkpoint = \"distilbert-base-uncased-finetuned-sst-2-english\"\n",
    "tokenizer = DistilBertTokenizer.from_pretrained(model_checkpoint)\n",
    "\n",
    "device = torch.device('cuda' if torch.cuda.is_available() else 'cpu')"
   ]
  },
  {
   "cell_type": "code",
   "execution_count": 23,
   "metadata": {
    "execution": {
     "iopub.execute_input": "2025-02-16T04:28:12.677189Z",
     "iopub.status.busy": "2025-02-16T04:28:12.676868Z",
     "iopub.status.idle": "2025-02-16T04:28:12.681047Z",
     "shell.execute_reply": "2025-02-16T04:28:12.680033Z",
     "shell.execute_reply.started": "2025-02-16T04:28:12.677160Z"
    },
    "trusted": true
   },
   "outputs": [],
   "source": [
    "train_dataset = SpamDetectionDataset(train_data, tokenizer)\n",
    "eval_dataset = SpamDetectionDataset(eval_data, tokenizer)"
   ]
  },
  {
   "cell_type": "code",
   "execution_count": 24,
   "metadata": {
    "execution": {
     "iopub.execute_input": "2025-02-16T04:28:17.106973Z",
     "iopub.status.busy": "2025-02-16T04:28:17.106665Z",
     "iopub.status.idle": "2025-02-16T04:28:17.156540Z",
     "shell.execute_reply": "2025-02-16T04:28:17.155891Z",
     "shell.execute_reply.started": "2025-02-16T04:28:17.106949Z"
    },
    "trusted": true
   },
   "outputs": [
    {
     "data": {
      "text/plain": [
       "(tensor([ 101, 2183, 2006, 2498, 2307, 1012, 9061,  102,    0,    0,    0,    0,\n",
       "            0,    0,    0,    0,    0,    0,    0,    0,    0,    0,    0,    0,\n",
       "            0,    0,    0,    0,    0,    0,    0,    0,    0,    0,    0,    0,\n",
       "            0,    0,    0,    0,    0,    0,    0,    0,    0,    0,    0,    0,\n",
       "            0,    0,    0,    0,    0,    0,    0,    0,    0,    0,    0,    0,\n",
       "            0,    0,    0,    0,    0,    0,    0,    0,    0,    0,    0,    0,\n",
       "            0,    0,    0,    0,    0,    0,    0,    0,    0,    0,    0,    0,\n",
       "            0,    0,    0,    0,    0,    0,    0,    0,    0,    0,    0,    0,\n",
       "            0,    0,    0,    0,    0,    0,    0,    0,    0,    0,    0,    0,\n",
       "            0,    0,    0,    0,    0,    0,    0,    0,    0,    0,    0,    0,\n",
       "            0,    0,    0,    0,    0,    0,    0,    0,    0,    0,    0,    0,\n",
       "            0,    0,    0,    0,    0,    0,    0,    0,    0,    0,    0,    0,\n",
       "            0,    0,    0,    0,    0,    0,    0,    0,    0,    0,    0,    0,\n",
       "            0,    0,    0,    0,    0,    0,    0,    0,    0,    0,    0,    0,\n",
       "            0,    0,    0,    0,    0,    0,    0,    0,    0,    0,    0,    0,\n",
       "            0,    0,    0,    0,    0,    0,    0,    0,    0,    0,    0,    0,\n",
       "            0,    0,    0,    0,    0,    0,    0,    0,    0,    0,    0,    0,\n",
       "            0,    0,    0,    0,    0,    0,    0,    0,    0,    0,    0,    0,\n",
       "            0,    0,    0,    0,    0,    0,    0,    0,    0,    0,    0,    0,\n",
       "            0,    0,    0,    0,    0,    0,    0,    0,    0,    0,    0,    0,\n",
       "            0,    0,    0,    0,    0,    0,    0,    0,    0,    0,    0,    0,\n",
       "            0,    0,    0,    0]),\n",
       " tensor([1, 1, 1, 1, 1, 1, 1, 1, 0, 0, 0, 0, 0, 0, 0, 0, 0, 0, 0, 0, 0, 0, 0, 0,\n",
       "         0, 0, 0, 0, 0, 0, 0, 0, 0, 0, 0, 0, 0, 0, 0, 0, 0, 0, 0, 0, 0, 0, 0, 0,\n",
       "         0, 0, 0, 0, 0, 0, 0, 0, 0, 0, 0, 0, 0, 0, 0, 0, 0, 0, 0, 0, 0, 0, 0, 0,\n",
       "         0, 0, 0, 0, 0, 0, 0, 0, 0, 0, 0, 0, 0, 0, 0, 0, 0, 0, 0, 0, 0, 0, 0, 0,\n",
       "         0, 0, 0, 0, 0, 0, 0, 0, 0, 0, 0, 0, 0, 0, 0, 0, 0, 0, 0, 0, 0, 0, 0, 0,\n",
       "         0, 0, 0, 0, 0, 0, 0, 0, 0, 0, 0, 0, 0, 0, 0, 0, 0, 0, 0, 0, 0, 0, 0, 0,\n",
       "         0, 0, 0, 0, 0, 0, 0, 0, 0, 0, 0, 0, 0, 0, 0, 0, 0, 0, 0, 0, 0, 0, 0, 0,\n",
       "         0, 0, 0, 0, 0, 0, 0, 0, 0, 0, 0, 0, 0, 0, 0, 0, 0, 0, 0, 0, 0, 0, 0, 0,\n",
       "         0, 0, 0, 0, 0, 0, 0, 0, 0, 0, 0, 0, 0, 0, 0, 0, 0, 0, 0, 0, 0, 0, 0, 0,\n",
       "         0, 0, 0, 0, 0, 0, 0, 0, 0, 0, 0, 0, 0, 0, 0, 0, 0, 0, 0, 0, 0, 0, 0, 0,\n",
       "         0, 0, 0, 0, 0, 0, 0, 0, 0, 0, 0, 0, 0, 0, 0, 0]),\n",
       " tensor([0]))"
      ]
     },
     "execution_count": 24,
     "metadata": {},
     "output_type": "execute_result"
    }
   ],
   "source": [
    "next(iter(train_dataset))"
   ]
  },
  {
   "cell_type": "code",
   "execution_count": 25,
   "metadata": {
    "execution": {
     "iopub.execute_input": "2025-02-16T04:28:20.677323Z",
     "iopub.status.busy": "2025-02-16T04:28:20.677056Z",
     "iopub.status.idle": "2025-02-16T04:28:20.681312Z",
     "shell.execute_reply": "2025-02-16T04:28:20.680438Z",
     "shell.execute_reply.started": "2025-02-16T04:28:20.677302Z"
    },
    "trusted": true
   },
   "outputs": [],
   "source": [
    "batch_size = 20\n",
    "train_dataloader = DataLoader(train_dataset, batch_size=batch_size, shuffle=True)\n",
    "eval_dataloader = DataLoader(eval_dataset, batch_size=batch_size, shuffle=False)"
   ]
  },
  {
   "cell_type": "code",
   "execution_count": 26,
   "metadata": {
    "execution": {
     "iopub.execute_input": "2025-02-16T04:28:24.827118Z",
     "iopub.status.busy": "2025-02-16T04:28:24.826833Z",
     "iopub.status.idle": "2025-02-16T04:28:24.831850Z",
     "shell.execute_reply": "2025-02-16T04:28:24.830751Z",
     "shell.execute_reply.started": "2025-02-16T04:28:24.827096Z"
    },
    "trusted": true
   },
   "outputs": [],
   "source": [
    "class DistilBertClassifier(nn.Module): \n",
    "    def __init__(self, num_labels):\n",
    "        super().__init__()\n",
    "        self.distilbert = DistilBertForSequenceClassification.from_pretrained(model_checkpoint,\n",
    "                                                                             num_labels = num_labels)\n",
    "\n",
    "    def forward(self, input_ids, attention_mask):\n",
    "        outputs = self.distilbert(input_ids=input_ids, attention_mask=attention_mask)\n",
    "\n",
    "        return outputs.logits\n",
    "        \n",
    "        "
   ]
  },
  {
   "cell_type": "code",
   "execution_count": 27,
   "metadata": {
    "execution": {
     "iopub.execute_input": "2025-02-16T04:28:26.727379Z",
     "iopub.status.busy": "2025-02-16T04:28:26.726962Z",
     "iopub.status.idle": "2025-02-16T04:28:29.235637Z",
     "shell.execute_reply": "2025-02-16T04:28:29.234757Z",
     "shell.execute_reply.started": "2025-02-16T04:28:26.727325Z"
    },
    "trusted": true
   },
   "outputs": [
    {
     "data": {
      "application/vnd.jupyter.widget-view+json": {
       "model_id": "60ed86f0fbf342ed815af77b89c2bb23",
       "version_major": 2,
       "version_minor": 0
      },
      "text/plain": [
       "model.safetensors:   0%|          | 0.00/268M [00:00<?, ?B/s]"
      ]
     },
     "metadata": {},
     "output_type": "display_data"
    }
   ],
   "source": [
    "# Now it's timee to train the model\n",
    "num_labels = 2\n",
    "model = DistilBertClassifier(num_labels).to(device) # we turn the model to cpu or gpu\n",
    "criterion = nn.CrossEntropyLoss()\n",
    "optimizer = torch.optim.AdamW(model.parameters(), lr = 2e-5)"
   ]
  },
  {
   "cell_type": "code",
   "execution_count": 28,
   "metadata": {
    "execution": {
     "iopub.execute_input": "2025-02-16T04:28:30.497180Z",
     "iopub.status.busy": "2025-02-16T04:28:30.496722Z",
     "iopub.status.idle": "2025-02-16T04:28:31.100779Z",
     "shell.execute_reply": "2025-02-16T04:28:31.099923Z",
     "shell.execute_reply.started": "2025-02-16T04:28:30.497155Z"
    },
    "trusted": true
   },
   "outputs": [],
   "source": [
    "from torchmetrics import Accuracy\n",
    "accuracy= Accuracy(task = 'binary')"
   ]
  },
  {
   "cell_type": "code",
   "execution_count": 29,
   "metadata": {
    "execution": {
     "iopub.execute_input": "2025-02-16T04:28:32.812163Z",
     "iopub.status.busy": "2025-02-16T04:28:32.811725Z",
     "iopub.status.idle": "2025-02-16T04:28:32.818628Z",
     "shell.execute_reply": "2025-02-16T04:28:32.817823Z",
     "shell.execute_reply.started": "2025-02-16T04:28:32.812141Z"
    },
    "trusted": true
   },
   "outputs": [
    {
     "data": {
      "text/plain": [
       "BinaryAccuracy()"
      ]
     },
     "execution_count": 29,
     "metadata": {},
     "output_type": "execute_result"
    }
   ],
   "source": [
    "accuracy.to(device)"
   ]
  },
  {
   "cell_type": "code",
   "execution_count": 30,
   "metadata": {
    "execution": {
     "iopub.execute_input": "2025-02-16T04:28:34.846945Z",
     "iopub.status.busy": "2025-02-16T04:28:34.846644Z",
     "iopub.status.idle": "2025-02-16T04:28:34.852938Z",
     "shell.execute_reply": "2025-02-16T04:28:34.852003Z",
     "shell.execute_reply.started": "2025-02-16T04:28:34.846918Z"
    },
    "trusted": true
   },
   "outputs": [
    {
     "data": {
      "text/plain": [
       "DistilBertClassifier(\n",
       "  (distilbert): DistilBertForSequenceClassification(\n",
       "    (distilbert): DistilBertModel(\n",
       "      (embeddings): Embeddings(\n",
       "        (word_embeddings): Embedding(30522, 768, padding_idx=0)\n",
       "        (position_embeddings): Embedding(512, 768)\n",
       "        (LayerNorm): LayerNorm((768,), eps=1e-12, elementwise_affine=True)\n",
       "        (dropout): Dropout(p=0.1, inplace=False)\n",
       "      )\n",
       "      (transformer): Transformer(\n",
       "        (layer): ModuleList(\n",
       "          (0-5): 6 x TransformerBlock(\n",
       "            (attention): MultiHeadSelfAttention(\n",
       "              (dropout): Dropout(p=0.1, inplace=False)\n",
       "              (q_lin): Linear(in_features=768, out_features=768, bias=True)\n",
       "              (k_lin): Linear(in_features=768, out_features=768, bias=True)\n",
       "              (v_lin): Linear(in_features=768, out_features=768, bias=True)\n",
       "              (out_lin): Linear(in_features=768, out_features=768, bias=True)\n",
       "            )\n",
       "            (sa_layer_norm): LayerNorm((768,), eps=1e-12, elementwise_affine=True)\n",
       "            (ffn): FFN(\n",
       "              (dropout): Dropout(p=0.1, inplace=False)\n",
       "              (lin1): Linear(in_features=768, out_features=3072, bias=True)\n",
       "              (lin2): Linear(in_features=3072, out_features=768, bias=True)\n",
       "              (activation): GELUActivation()\n",
       "            )\n",
       "            (output_layer_norm): LayerNorm((768,), eps=1e-12, elementwise_affine=True)\n",
       "          )\n",
       "        )\n",
       "      )\n",
       "    )\n",
       "    (pre_classifier): Linear(in_features=768, out_features=768, bias=True)\n",
       "    (classifier): Linear(in_features=768, out_features=2, bias=True)\n",
       "    (dropout): Dropout(p=0.2, inplace=False)\n",
       "  )\n",
       ")"
      ]
     },
     "execution_count": 30,
     "metadata": {},
     "output_type": "execute_result"
    }
   ],
   "source": [
    "model"
   ]
  },
  {
   "cell_type": "code",
   "execution_count": 31,
   "metadata": {
    "execution": {
     "iopub.execute_input": "2025-02-16T04:28:40.558230Z",
     "iopub.status.busy": "2025-02-16T04:28:40.557941Z",
     "iopub.status.idle": "2025-02-16T04:28:40.567208Z",
     "shell.execute_reply": "2025-02-16T04:28:40.566272Z",
     "shell.execute_reply.started": "2025-02-16T04:28:40.558209Z"
    },
    "trusted": true
   },
   "outputs": [],
   "source": [
    "def train_eval(model, optimizer, loss_fn, train_loader, test_loader, epochs = 2) :\n",
    "    list_train_loss = []\n",
    "    list_test_loss = []\n",
    "    train_accuracy = []\n",
    "    test_accuracy = []\n",
    "    \n",
    "    for epoch in range(epochs) :\n",
    "        train_loss = 0\n",
    "        test_loss = 0\n",
    "        model.train()\n",
    "\n",
    "        for batch in  train_loader :\n",
    "            optimizer.zero_grad()\n",
    "            input_ids, attention_mask, labels = batch\n",
    "            input_ids = input_ids.to(device)\n",
    "            attention_mask = attention_mask.to(device)\n",
    "            labels = labels.view(-1) # we reshape the label to map the model output\n",
    "            labels = labels.to(device)\n",
    "            \n",
    "            # run forward pass and compute loss\n",
    "            logits = model(input_ids, attention_mask)\n",
    "            loss = loss_fn(logits, labels)\n",
    "            predicted_label = nn.functional.sigmoid(logits)\n",
    "            _, predicted_label = torch.max(predicted_label, 1)\n",
    "            accuracy(predicted_label, labels)\n",
    "            # compute gradient\n",
    "            loss.backward()\n",
    "            #update model parameters (back_propagation)\n",
    "            optimizer.step()\n",
    "            train_loss += loss.item()\n",
    "            \n",
    "        # final loss    \n",
    "        train_loss = train_loss/len(train_loader)\n",
    "        list_train_loss.append(train_loss)\n",
    "        train_acc = accuracy.compute()\n",
    "        train_accuracy.append(train_acc.item())\n",
    "        accuracy.reset()\n",
    "        \n",
    "        print('Epoch {} loss on train set is: -----> {} and acc is: ----> {}'.format(epoch+1, train_loss, train_acc))\n",
    "        print('-----------------------------------------------------------------------')\n",
    "\n",
    "        model.eval() \n",
    "        with torch.no_grad() :\n",
    "            for batch in test_loader: \n",
    "                eval_input_ids, eval_attention_mask, eval_labels = batch\n",
    "                eval_input_ids = eval_input_ids.to(device)\n",
    "                eval_attention_mask = eval_attention_mask.to(device)\n",
    "                eval_labels = eval_labels.view(-1) # we reshape the label to map the model output\n",
    "                eval_labels = eval_labels.to(device)\n",
    "\n",
    "                eval_logits = model(eval_input_ids, eval_attention_mask)\n",
    "                eval_loss = loss_fn(eval_logits, eval_labels)\n",
    "                test_loss += eval_loss.item()\n",
    "\n",
    "                eval_pred_label = nn.functional.sigmoid(eval_logits)\n",
    "                _, eval_pred_label = torch.max(eval_pred_label, 1)\n",
    "                accuracy(eval_pred_label, eval_labels)\n",
    "\n",
    "            #final test_loss\n",
    "            test_loss /= len(test_loader)\n",
    "            list_test_loss.append(test_loss)\n",
    "            val_acc = accuracy.compute()\n",
    "            test_accuracy.append(val_acc.item())\n",
    "            accuracy.reset()\n",
    "\n",
    "            print('Epoch {} loss on eval set is: -----> {} and acc is: ---->{}'.format(epoch+1, test_loss, val_acc))\n",
    "            print('=====================================================================')\n",
    "\n",
    "                \n",
    "\n",
    "    return list_train_loss, list_test_loss, train_accuracy, test_accuracy\n"
   ]
  },
  {
   "cell_type": "code",
   "execution_count": 32,
   "metadata": {
    "execution": {
     "iopub.execute_input": "2025-02-16T04:28:48.027677Z",
     "iopub.status.busy": "2025-02-16T04:28:48.027311Z",
     "iopub.status.idle": "2025-02-16T04:31:01.286018Z",
     "shell.execute_reply": "2025-02-16T04:31:01.285234Z",
     "shell.execute_reply.started": "2025-02-16T04:28:48.027651Z"
    },
    "trusted": true
   },
   "outputs": [
    {
     "name": "stdout",
     "output_type": "stream",
     "text": [
      "Epoch 1 loss on train set is: -----> 0.18581230601717638 and acc is: ----> 0.939645528793335\n",
      "-----------------------------------------------------------------------\n",
      "Epoch 1 loss on eval set is: -----> 0.04106280812785761 and acc is: ---->0.9901345372200012\n",
      "=====================================================================\n",
      "Epoch 2 loss on train set is: -----> 0.02988741252176681 and acc is: ----> 0.9914740920066833\n",
      "-----------------------------------------------------------------------\n",
      "Epoch 2 loss on eval set is: -----> 0.0406585737010963 and acc is: ---->0.9910314083099365\n",
      "=====================================================================\n"
     ]
    }
   ],
   "source": [
    "result = train_eval(model, optimizer, criterion, train_dataloader, eval_dataloader)"
   ]
  },
  {
   "cell_type": "code",
   "execution_count": 33,
   "metadata": {
    "execution": {
     "iopub.execute_input": "2025-02-16T04:31:04.997508Z",
     "iopub.status.busy": "2025-02-16T04:31:04.997164Z",
     "iopub.status.idle": "2025-02-16T04:31:05.001067Z",
     "shell.execute_reply": "2025-02-16T04:31:05.000296Z",
     "shell.execute_reply.started": "2025-02-16T04:31:04.997479Z"
    },
    "trusted": true
   },
   "outputs": [],
   "source": [
    "list_train_loss, list_test_loss, train_accuracy, test_accuracy = result"
   ]
  },
  {
   "cell_type": "code",
   "execution_count": 34,
   "metadata": {
    "execution": {
     "iopub.execute_input": "2025-02-16T04:31:07.656542Z",
     "iopub.status.busy": "2025-02-16T04:31:07.656245Z",
     "iopub.status.idle": "2025-02-16T04:31:07.909992Z",
     "shell.execute_reply": "2025-02-16T04:31:07.909146Z",
     "shell.execute_reply.started": "2025-02-16T04:31:07.656519Z"
    },
    "trusted": true
   },
   "outputs": [
    {
     "data": {
      "image/png": "[encoded data removed]",
      "text/plain": [
       "<Figure size 1200x800 with 1 Axes>"
      ]
     },
     "metadata": {},
     "output_type": "display_data"
    }
   ],
   "source": [
    "plt.figure(figsize = (12, 8))\n",
    "plt.plot(list_train_loss, label = 'train_loss')\n",
    "plt.plot(list_test_loss, label = 'test_loss', linestyle = '--')\n",
    "plt.legend()\n",
    "plt.show()"
   ]
  },
  {
   "cell_type": "code",
   "execution_count": 35,
   "metadata": {
    "execution": {
     "iopub.execute_input": "2025-02-16T04:31:10.576981Z",
     "iopub.status.busy": "2025-02-16T04:31:10.576688Z",
     "iopub.status.idle": "2025-02-16T04:31:10.748953Z",
     "shell.execute_reply": "2025-02-16T04:31:10.748098Z",
     "shell.execute_reply.started": "2025-02-16T04:31:10.576958Z"
    },
    "trusted": true
   },
   "outputs": [
    {
     "data": {
      "image/png": "[encoded data removed]",
      "text/plain": [
       "<Figure size 1200x800 with 1 Axes>"
      ]
     },
     "metadata": {},
     "output_type": "display_data"
    }
   ],
   "source": [
    "plt.figure(figsize = (12, 8))\n",
    "plt.plot(train_accuracy, label = 'train_accuracy')\n",
    "plt.plot(test_accuracy, label = 'test_accuracy')\n",
    "plt.legend()\n",
    "plt.show()"
   ]
  },
  {
   "cell_type": "code",
   "execution_count": 36,
   "metadata": {
    "execution": {
     "iopub.execute_input": "2025-02-16T04:31:14.022271Z",
     "iopub.status.busy": "2025-02-16T04:31:14.021993Z",
     "iopub.status.idle": "2025-02-16T04:31:19.714189Z",
     "shell.execute_reply": "2025-02-16T04:31:19.713504Z",
     "shell.execute_reply.started": "2025-02-16T04:31:14.022250Z"
    },
    "trusted": true
   },
   "outputs": [],
   "source": [
    "# Let's visualize, confusion matrix, and auc_roc_score\n",
    "all_labels = []\n",
    "all_preds = []\n",
    "\n",
    "with torch.no_grad():\n",
    "    \n",
    "    n_correct = 0\n",
    "    n_samples = 0\n",
    "    for batch in eval_dataloader:\n",
    "        input_ids, attention_mask, labels = batch\n",
    "        input_ids = input_ids.to(device)\n",
    "\n",
    "        attention_mask = attention_mask.to(device)\n",
    "\n",
    "        labels = labels.view(-1)\n",
    "        labels = labels.to(device)\n",
    "\n",
    "        logits = model(input_ids, attention_mask)\n",
    "        \n",
    "        eval_pred_label = nn.functional.sigmoid(logits)\n",
    "      \n",
    "        _, predictions = torch.max(eval_pred_label, 1)\n",
    "\n",
    "        all_labels.append(labels.cpu().numpy())\n",
    "        all_preds.append(predictions.cpu().numpy())"
   ]
  },
  {
   "cell_type": "code",
   "execution_count": 37,
   "metadata": {
    "execution": {
     "iopub.execute_input": "2025-02-16T04:31:24.106967Z",
     "iopub.status.busy": "2025-02-16T04:31:24.106683Z",
     "iopub.status.idle": "2025-02-16T04:31:24.111570Z",
     "shell.execute_reply": "2025-02-16T04:31:24.110855Z",
     "shell.execute_reply.started": "2025-02-16T04:31:24.106946Z"
    },
    "trusted": true
   },
   "outputs": [],
   "source": [
    "all_labels = np.concatenate(all_labels, axis=0)\n",
    "all_preds = np.concatenate(all_preds, axis=0)"
   ]
  },
  {
   "cell_type": "code",
   "execution_count": 38,
   "metadata": {
    "execution": {
     "iopub.execute_input": "2025-02-16T04:31:26.612127Z",
     "iopub.status.busy": "2025-02-16T04:31:26.611811Z",
     "iopub.status.idle": "2025-02-16T04:31:26.617405Z",
     "shell.execute_reply": "2025-02-16T04:31:26.616447Z",
     "shell.execute_reply.started": "2025-02-16T04:31:26.612101Z"
    },
    "trusted": true
   },
   "outputs": [
    {
     "data": {
      "text/plain": [
       "array([0, 0, 0, ..., 0, 0, 0])"
      ]
     },
     "execution_count": 38,
     "metadata": {},
     "output_type": "execute_result"
    }
   ],
   "source": [
    "all_labels"
   ]
  },
  {
   "cell_type": "code",
   "execution_count": 39,
   "metadata": {
    "execution": {
     "iopub.execute_input": "2025-02-16T04:31:28.167180Z",
     "iopub.status.busy": "2025-02-16T04:31:28.166799Z",
     "iopub.status.idle": "2025-02-16T04:31:28.172383Z",
     "shell.execute_reply": "2025-02-16T04:31:28.171531Z",
     "shell.execute_reply.started": "2025-02-16T04:31:28.167145Z"
    },
    "trusted": true
   },
   "outputs": [
    {
     "data": {
      "text/plain": [
       "array([0, 0, 0, ..., 0, 0, 0])"
      ]
     },
     "execution_count": 39,
     "metadata": {},
     "output_type": "execute_result"
    }
   ],
   "source": [
    "all_preds"
   ]
  },
  {
   "cell_type": "code",
   "execution_count": 40,
   "metadata": {
    "execution": {
     "iopub.execute_input": "2025-02-16T04:31:30.342050Z",
     "iopub.status.busy": "2025-02-16T04:31:30.341766Z",
     "iopub.status.idle": "2025-02-16T04:31:30.347177Z",
     "shell.execute_reply": "2025-02-16T04:31:30.346418Z",
     "shell.execute_reply.started": "2025-02-16T04:31:30.342029Z"
    },
    "trusted": true
   },
   "outputs": [
    {
     "data": {
      "text/plain": [
       "0.1336322869955157"
      ]
     },
     "execution_count": 40,
     "metadata": {},
     "output_type": "execute_result"
    }
   ],
   "source": [
    "len(list(filter(lambda x: x==1, all_labels)))/len(all_labels)"
   ]
  },
  {
   "cell_type": "code",
   "execution_count": 41,
   "metadata": {
    "execution": {
     "iopub.execute_input": "2025-02-16T04:31:32.202033Z",
     "iopub.status.busy": "2025-02-16T04:31:32.201747Z",
     "iopub.status.idle": "2025-02-16T04:31:32.207593Z",
     "shell.execute_reply": "2025-02-16T04:31:32.206768Z",
     "shell.execute_reply.started": "2025-02-16T04:31:32.202011Z"
    },
    "trusted": true
   },
   "outputs": [
    {
     "data": {
      "text/plain": [
       "0.12645739910313902"
      ]
     },
     "execution_count": 41,
     "metadata": {},
     "output_type": "execute_result"
    }
   ],
   "source": [
    "len(list(filter(lambda x: x==1, all_preds)))/len(all_preds)"
   ]
  },
  {
   "cell_type": "code",
   "execution_count": 42,
   "metadata": {
    "execution": {
     "iopub.execute_input": "2025-02-16T04:31:34.221886Z",
     "iopub.status.busy": "2025-02-16T04:31:34.221576Z",
     "iopub.status.idle": "2025-02-16T04:31:34.237100Z",
     "shell.execute_reply": "2025-02-16T04:31:34.236069Z",
     "shell.execute_reply.started": "2025-02-16T04:31:34.221859Z"
    },
    "trusted": true
   },
   "outputs": [
    {
     "name": "stdout",
     "output_type": "stream",
     "text": [
      "              precision    recall  f1-score   support\n",
      "\n",
      "           0       0.99      1.00      0.99       966\n",
      "           1       0.99      0.94      0.97       149\n",
      "\n",
      "    accuracy                           0.99      1115\n",
      "   macro avg       0.99      0.97      0.98      1115\n",
      "weighted avg       0.99      0.99      0.99      1115\n",
      "\n"
     ]
    }
   ],
   "source": [
    "print(classification_report(all_labels, all_preds))"
   ]
  },
  {
   "cell_type": "code",
   "execution_count": 43,
   "metadata": {
    "execution": {
     "iopub.execute_input": "2025-02-16T04:31:36.646903Z",
     "iopub.status.busy": "2025-02-16T04:31:36.646613Z",
     "iopub.status.idle": "2025-02-16T04:31:36.650677Z",
     "shell.execute_reply": "2025-02-16T04:31:36.649728Z",
     "shell.execute_reply.started": "2025-02-16T04:31:36.646881Z"
    },
    "trusted": true
   },
   "outputs": [],
   "source": [
    "from sklearn.metrics import accuracy_score"
   ]
  },
  {
   "cell_type": "code",
   "execution_count": 44,
   "metadata": {
    "execution": {
     "iopub.execute_input": "2025-02-16T04:31:39.386470Z",
     "iopub.status.busy": "2025-02-16T04:31:39.386104Z",
     "iopub.status.idle": "2025-02-16T04:31:39.392138Z",
     "shell.execute_reply": "2025-02-16T04:31:39.391442Z",
     "shell.execute_reply.started": "2025-02-16T04:31:39.386439Z"
    },
    "trusted": true
   },
   "outputs": [
    {
     "name": "stdout",
     "output_type": "stream",
     "text": [
      "0.9910313901345291\n"
     ]
    }
   ],
   "source": [
    "print(accuracy_score(all_labels, all_preds))"
   ]
  },
  {
   "cell_type": "code",
   "execution_count": 47,
   "metadata": {
    "execution": {
     "iopub.execute_input": "2025-02-16T04:34:02.597931Z",
     "iopub.status.busy": "2025-02-16T04:34:02.597616Z",
     "iopub.status.idle": "2025-02-16T04:34:02.827394Z",
     "shell.execute_reply": "2025-02-16T04:34:02.826509Z",
     "shell.execute_reply.started": "2025-02-16T04:34:02.597905Z"
    },
    "trusted": true
   },
   "outputs": [
    {
     "data": {
      "image/png": "[encoded data removed]",
      "text/plain": [
       "<Figure size 800x600 with 2 Axes>"
      ]
     },
     "metadata": {},
     "output_type": "display_data"
    }
   ],
   "source": [
    "from sklearn.metrics import confusion_matrix, classification_report\n",
    "import seaborn as sns\n",
    "import torch\n",
    "import os\n",
    "\n",
    "# Compute confusion matrix\n",
    "cm = confusion_matrix(all_labels, all_preds)\n",
    "\n",
    "# Plot confusion matrix\n",
    "plt.figure(figsize=(8,6))\n",
    "sns.heatmap(cm, annot=True, fmt='d', cmap='Blues', xticklabels=['Not Spam', 'Spam'], yticklabels=['Not Spam', 'Spam'])\n",
    "plt.xlabel('Predicted')\n",
    "plt.ylabel('Actual')\n",
    "plt.title('Confusion Matrix')\n",
    "plt.show()"
   ]
  },
  {
   "cell_type": "code",
   "execution_count": 49,
   "metadata": {
    "execution": {
     "iopub.execute_input": "2025-02-16T04:34:55.017392Z",
     "iopub.status.busy": "2025-02-16T04:34:55.017080Z",
     "iopub.status.idle": "2025-02-16T04:34:55.450782Z",
     "shell.execute_reply": "2025-02-16T04:34:55.450000Z",
     "shell.execute_reply.started": "2025-02-16T04:34:55.017348Z"
    },
    "trusted": true
   },
   "outputs": [
    {
     "name": "stdout",
     "output_type": "stream",
     "text": [
      "Model and tokenizer (if applicable) saved in distilbert_spam_model\n"
     ]
    }
   ],
   "source": [
    "# Save model and tokenizer for Hugging Face deployment\n",
    "output_dir = \"distilbert_spam_model\"\n",
    "os.makedirs(output_dir, exist_ok=True)\n",
    "\n",
    "# Save PyTorch model\n",
    "torch.save(model.state_dict(), os.path.join(output_dir, \"model.pth\"))\n",
    "\n",
    "# Save tokenizer if applicable\n",
    "if hasattr(tokenizer, 'save_pretrained'):\n",
    "    tokenizer.save_pretrained(output_dir)\n",
    "\n",
    "print(f\"Model and tokenizer (if applicable) saved in {output_dir}\")"
   ]
  }
 ],
 "metadata": {
  "kaggle": {
   "accelerator": "gpu",
   "dataSources": [
    {
     "datasetId": 483,
     "sourceId": 982,
     "sourceType": "datasetVersion"
    }
   ],
   "dockerImageVersionId": 30823,
   "isGpuEnabled": true,
   "isInternetEnabled": true,
   "language": "python",
   "sourceType": "notebook"
  },
  "kernelspec": {
   "display_name": "Python 3",
   "language": "python",
   "name": "python3"
  },
  "language_info": {
   "codemirror_mode": {
    "name": "ipython",
    "version": 3
   },
   "file_extension": ".py",
   "mimetype": "text/x-python",
   "name": "python",
   "nbconvert_exporter": "python",
   "pygments_lexer": "ipython3",
   "version": "3.10.12"
  }
 },
 "nbformat": 4,
 "nbformat_minor": 4
}
